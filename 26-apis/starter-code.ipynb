{
 "cells": [
  {
   "cell_type": "markdown",
   "metadata": {
    "ExecuteTime": {
     "end_time": "2021-05-11T09:46:19.846121Z",
     "start_time": "2021-05-11T09:46:19.843787Z"
    }
   },
   "source": [
    "<img src=\"http://imgur.com/1ZcRyrc.png\" style=\"float: left; margin: 20px; height: 55px\">\n",
    "\n",
    "\n",
    "# Introduction to APIs\n",
    "*Authors: dorkydragon and GA*\n",
    "\n",
    "![](imgs/data_is_around.png)\n",
    "\n",
    "----"
   ]
  },
  {
   "cell_type": "markdown",
   "metadata": {
    "ExecuteTime": {
     "end_time": "2021-05-11T09:46:33.571739Z",
     "start_time": "2021-05-11T09:46:33.568880Z"
    }
   },
   "source": [
    "## The `requests` Library\n",
    "The `requests` library is a library for submitting HTTP requests from Python. Despite its frequent use, it's not included in the Python standard library. You'll need to `pip install requests` yourself.\n",
    "![](imgs/pokeapi.png)\n",
    "\n",
    "API documentation can be found at https://pokeapi.co/"
   ]
  },
  {
   "cell_type": "code",
   "execution_count": 1,
   "metadata": {
    "ExecuteTime": {
     "end_time": "2021-05-11T09:54:57.010722Z",
     "start_time": "2021-05-11T09:54:57.008973Z"
    }
   },
   "outputs": [],
   "source": [
    "import pandas as pd\n",
    "import numpy as np\n",
    "import requests\n",
    "import time"
   ]
  },
  {
   "cell_type": "code",
   "execution_count": 2,
   "metadata": {
    "ExecuteTime": {
     "end_time": "2021-05-11T09:52:14.897297Z",
     "start_time": "2021-05-11T09:52:14.895331Z"
    }
   },
   "outputs": [],
   "source": [
    "# Create url for API call.\n",
    "url = 'https://pokeapi.co/api/v2/pokemon/ditto'"
   ]
  },
  {
   "cell_type": "code",
   "execution_count": 3,
   "metadata": {
    "ExecuteTime": {
     "end_time": "2021-05-11T09:52:15.474687Z",
     "start_time": "2021-05-11T09:52:15.345097Z"
    }
   },
   "outputs": [],
   "source": [
    "# Submit request\n",
    "res = requests.get(url)"
   ]
  },
  {
   "cell_type": "code",
   "execution_count": 4,
   "metadata": {
    "ExecuteTime": {
     "end_time": "2021-05-11T09:52:16.026521Z",
     "start_time": "2021-05-11T09:52:16.020848Z"
    }
   },
   "outputs": [
    {
     "data": {
      "text/plain": [
       "200"
      ]
     },
     "execution_count": 4,
     "metadata": {},
     "output_type": "execute_result"
    }
   ],
   "source": [
    "# Request response code\n",
    "res.status_code"
   ]
  },
  {
   "cell_type": "code",
   "execution_count": 7,
   "metadata": {
    "ExecuteTime": {
     "end_time": "2021-05-11T09:52:25.957491Z",
     "start_time": "2021-05-11T09:52:25.954907Z"
    }
   },
   "outputs": [
    {
     "data": {
      "text/plain": [
       "'{\"abilities\":[{\"ability\":{\"name\":\"limber\",\"url\":\"https://pokeapi.co/api/v2/ability/7/\"},\"is_hidden\":false,\"slot\":1},{\"ability\":{\"name\":\"imposter\",\"url\":\"https://pokeapi.co/api/v2/ability/150/\"},\"is_hidden\":true,\"slot\":3}],\"base_experience\":101,\"forms\":[{\"name\":\"ditto\",\"url\":\"https://pokeapi.co/api/v2/pokemon-form/132/\"}],\"game_indices\":[{\"game_index\":76,\"version\":{\"name\":\"red\",\"url\":\"https://pokeapi.co/api/v2/version/1/\"}},{\"game_index\":76,\"version\":{\"name\":\"blue\",\"url\":\"https://pokeapi.co/api/v2/version/2/\"}},{\"game_index\":76,\"version\":{\"name\":\"yellow\",\"url\":\"https://pokeapi.co/api/v2/version/3/\"}},{\"game_index\":132,\"version\":{\"name\":\"gold\",\"url\":\"https://pokeapi.co/api/v2/version/4/\"}},{\"game_index\":132,\"version\":{\"name\":\"silver\",\"url\":\"https://pokeapi.co/api/v2/version/5/\"}},{\"game_index\":132,\"version\":{\"name\":\"crystal\",\"url\":\"https://pokeapi.co/api/v2/version/6/\"}},{\"game_index\":132,\"version\":{\"name\":\"ruby\",\"url\":\"https://pokeapi.co/api/v2/version/7/\"}},{\"game_index\":132,\"version\":{\"name\":\"sapphire\",\"url\":\"https://pokeapi.co/api/v2/version/8/\"}},{\"game_index\":132,\"version\":{\"name\":\"emerald\",\"url\":\"https://pokeapi.co/api/v2/version/9/\"}},{\"game_index\":132,\"version\":{\"name\":\"firered\",\"url\":\"https://pokeapi.co/api/v2/version/10/\"}},{\"game_index\":132,\"version\":{\"name\":\"leafgreen\",\"url\":\"https://pokeapi.co/api/v2/version/11/\"}},{\"game_index\":132,\"version\":{\"name\":\"diamond\",\"url\":\"https://pokeapi.co/api/v2/version/12/\"}},{\"game_index\":132,\"version\":{\"name\":\"pearl\",\"url\":\"https://pokeapi.co/api/v2/version/13/\"}},{\"game_index\":132,\"version\":{\"name\":\"platinum\",\"url\":\"https://pokeapi.co/api/v2/version/14/\"}},{\"game_index\":132,\"version\":{\"name\":\"heartgold\",\"url\":\"https://pokeapi.co/api/v2/version/15/\"}},{\"game_index\":132,\"version\":{\"name\":\"soulsilver\",\"url\":\"https://pokeapi.co/api/v2/version/16/\"}},{\"game_index\":132,\"version\":{\"name\":\"black\",\"url\":\"https://pokeapi.co/api/v2/version/17/\"}},{\"game_index\":132,\"version\":{\"name\":\"white\",\"url\":\"https://pokeapi.co/api/v2/version/18/\"}},{\"game_index\":132,\"version\":{\"name\":\"black-2\",\"url\":\"https://pokeapi.co/api/v2/version/21/\"}},{\"game_index\":132,\"version\":{\"name\":\"white-2\",\"url\":\"https://pokeapi.co/api/v2/version/22/\"}}],\"height\":3,\"held_items\":[{\"item\":{\"name\":\"metal-powder\",\"url\":\"https://pokeapi.co/api/v2/item/234/\"},\"version_details\":[{\"rarity\":5,\"version\":{\"name\":\"ruby\",\"url\":\"https://pokeapi.co/api/v2/version/7/\"}},{\"rarity\":5,\"version\":{\"name\":\"sapphire\",\"url\":\"https://pokeapi.co/api/v2/version/8/\"}},{\"rarity\":5,\"version\":{\"name\":\"emerald\",\"url\":\"https://pokeapi.co/api/v2/version/9/\"}},{\"rarity\":5,\"version\":{\"name\":\"firered\",\"url\":\"https://pokeapi.co/api/v2/version/10/\"}},{\"rarity\":5,\"version\":{\"name\":\"leafgreen\",\"url\":\"https://pokeapi.co/api/v2/version/11/\"}},{\"rarity\":5,\"version\":{\"name\":\"diamond\",\"url\":\"https://pokeapi.co/api/v2/version/12/\"}},{\"rarity\":5,\"version\":{\"name\":\"pearl\",\"url\":\"https://pokeapi.co/api/v2/version/13/\"}},{\"rarity\":5,\"version\":{\"name\":\"platinum\",\"url\":\"https://pokeapi.co/api/v2/version/14/\"}},{\"rarity\":5,\"version\":{\"name\":\"heartgold\",\"url\":\"https://pokeapi.co/api/v2/version/15/\"}},{\"rarity\":5,\"version\":{\"name\":\"soulsilver\",\"url\":\"https://pokeapi.co/api/v2/version/16/\"}},{\"rarity\":5,\"version\":{\"name\":\"black\",\"url\":\"https://pokeapi.co/api/v2/version/17/\"}},{\"rarity\":5,\"version\":{\"name\":\"white\",\"url\":\"https://pokeapi.co/api/v2/version/18/\"}},{\"rarity\":5,\"version\":{\"name\":\"black-2\",\"url\":\"https://pokeapi.co/api/v2/version/21/\"}},{\"rarity\":5,\"version\":{\"name\":\"white-2\",\"url\":\"https://pokeapi.co/api/v2/version/22/\"}},{\"rarity\":5,\"version\":{\"name\":\"x\",\"url\":\"https://pokeapi.co/api/v2/version/23/\"}},{\"rarity\":5,\"version\":{\"name\":\"y\",\"url\":\"https://pokeapi.co/api/v2/version/24/\"}},{\"rarity\":5,\"version\":{\"name\":\"omega-ruby\",\"url\":\"https://pokeapi.co/api/v2/version/25/\"}},{\"rarity\":5,\"version\":{\"name\":\"alpha-sapphire\",\"url\":\"https://pokeapi.co/api/v2/version/26/\"}},{\"rarity\":5,\"version\":{\"name\":\"sun\",\"url\":\"https://pokeapi.co/api/v2/version/27/\"}},{\"rarity\":5,\"version\":{\"name\":\"moon\",\"url\":\"https://pokeapi.co/api/v2/version/28/\"}},{\"rarity\":5,\"version\":{\"name\":\"ultra-sun\",\"url\":\"https://pokeapi.co/api/v2/version/29/\"}},{\"rarity\":5,\"version\":{\"name\":\"ultra-moon\",\"url\":\"https://pokeapi.co/api/v2/version/30/\"}}]},{\"item\":{\"name\":\"quick-powder\",\"url\":\"https://pokeapi.co/api/v2/item/251/\"},\"version_details\":[{\"rarity\":50,\"version\":{\"name\":\"diamond\",\"url\":\"https://pokeapi.co/api/v2/version/12/\"}},{\"rarity\":50,\"version\":{\"name\":\"pearl\",\"url\":\"https://pokeapi.co/api/v2/version/13/\"}},{\"rarity\":50,\"version\":{\"name\":\"platinum\",\"url\":\"https://pokeapi.co/api/v2/version/14/\"}},{\"rarity\":50,\"version\":{\"name\":\"heartgold\",\"url\":\"https://pokeapi.co/api/v2/version/15/\"}},{\"rarity\":50,\"version\":{\"name\":\"soulsilver\",\"url\":\"https://pokeapi.co/api/v2/version/16/\"}},{\"rarity\":50,\"version\":{\"name\":\"black\",\"url\":\"https://pokeapi.co/api/v2/version/17/\"}},{\"rarity\":50,\"version\":{\"name\":\"white\",\"url\":\"https://pokeapi.co/api/v2/version/18/\"}},{\"rarity\":50,\"version\":{\"name\":\"black-2\",\"url\":\"https://pokeapi.co/api/v2/version/21/\"}},{\"rarity\":50,\"version\":{\"name\":\"white-2\",\"url\":\"https://pokeapi.co/api/v2/version/22/\"}},{\"rarity\":50,\"version\":{\"name\":\"x\",\"url\":\"https://pokeapi.co/api/v2/version/23/\"}},{\"rarity\":50,\"version\":{\"name\":\"y\",\"url\":\"https://pokeapi.co/api/v2/version/24/\"}},{\"rarity\":50,\"version\":{\"name\":\"omega-ruby\",\"url\":\"https://pokeapi.co/api/v2/version/25/\"}},{\"rarity\":50,\"version\":{\"name\":\"alpha-sapphire\",\"url\":\"https://pokeapi.co/api/v2/version/26/\"}},{\"rarity\":50,\"version\":{\"name\":\"sun\",\"url\":\"https://pokeapi.co/api/v2/version/27/\"}},{\"rarity\":50,\"version\":{\"name\":\"moon\",\"url\":\"https://pokeapi.co/api/v2/version/28/\"}},{\"rarity\":50,\"version\":{\"name\":\"ultra-sun\",\"url\":\"https://pokeapi.co/api/v2/version/29/\"}},{\"rarity\":50,\"version\":{\"name\":\"ultra-moon\",\"url\":\"https://pokeapi.co/api/v2/version/30/\"}}]}],\"id\":132,\"is_default\":true,\"location_area_encounters\":\"https://pokeapi.co/api/v2/pokemon/132/encounters\",\"moves\":[{\"move\":{\"name\":\"transform\",\"url\":\"https://pokeapi.co/api/v2/move/144/\"},\"version_group_details\":[{\"level_learned_at\":1,\"move_learn_method\":{\"name\":\"level-up\",\"url\":\"https://pokeapi.co/api/v2/move-learn-method/1/\"},\"version_group\":{\"name\":\"red-blue\",\"url\":\"https://pokeapi.co/api/v2/version-group/1/\"}},{\"level_learned_at\":1,\"move_learn_method\":{\"name\":\"level-up\",\"url\":\"https://pokeapi.co/api/v2/move-learn-method/1/\"},\"version_group\":{\"name\":\"yellow\",\"url\":\"https://pokeapi.co/api/v2/version-group/2/\"}},{\"level_learned_at\":1,\"move_learn_method\":{\"name\":\"level-up\",\"url\":\"https://pokeapi.co/api/v2/move-learn-method/1/\"},\"version_group\":{\"name\":\"gold-silver\",\"url\":\"https://pokeapi.co/api/v2/version-group/3/\"}},{\"level_learned_at\":1,\"move_learn_method\":{\"name\":\"level-up\",\"url\":\"https://pokeapi.co/api/v2/move-learn-method/1/\"},\"version_group\":{\"name\":\"crystal\",\"url\":\"https://pokeapi.co/api/v2/version-group/4/\"}},{\"level_learned_at\":1,\"move_learn_method\":{\"name\":\"level-up\",\"url\":\"https://pokeapi.co/api/v2/move-learn-method/1/\"},\"version_group\":{\"name\":\"ruby-sapphire\",\"url\":\"https://pokeapi.co/api/v2/version-group/5/\"}},{\"level_learned_at\":1,\"move_learn_method\":{\"name\":\"level-up\",\"url\":\"https://pokeapi.co/api/v2/move-learn-method/1/\"},\"version_group\":{\"name\":\"emerald\",\"url\":\"https://pokeapi.co/api/v2/version-group/6/\"}},{\"level_learned_at\":1,\"move_learn_method\":{\"name\":\"level-up\",\"url\":\"https://pokeapi.co/api/v2/move-learn-method/1/\"},\"version_group\":{\"name\":\"firered-leafgreen\",\"url\":\"https://pokeapi.co/api/v2/version-group/7/\"}},{\"level_learned_at\":1,\"move_learn_method\":{\"name\":\"level-up\",\"url\":\"https://pokeapi.co/api/v2/move-learn-method/1/\"},\"version_group\":{\"name\":\"diamond-pearl\",\"url\":\"https://pokeapi.co/api/v2/version-group/8/\"}},{\"level_learned_at\":1,\"move_learn_method\":{\"name\":\"level-up\",\"url\":\"https://pokeapi.co/api/v2/move-learn-method/1/\"},\"version_group\":{\"name\":\"platinum\",\"url\":\"https://pokeapi.co/api/v2/version-group/9/\"}},{\"level_learned_at\":1,\"move_learn_method\":{\"name\":\"level-up\",\"url\":\"https://pokeapi.co/api/v2/move-learn-method/1/\"},\"version_group\":{\"name\":\"heartgold-soulsilver\",\"url\":\"https://pokeapi.co/api/v2/version-group/10/\"}},{\"level_learned_at\":1,\"move_learn_method\":{\"name\":\"level-up\",\"url\":\"https://pokeapi.co/api/v2/move-learn-method/1/\"},\"version_group\":{\"name\":\"black-white\",\"url\":\"https://pokeapi.co/api/v2/version-group/11/\"}},{\"level_learned_at\":1,\"move_learn_method\":{\"name\":\"level-up\",\"url\":\"https://pokeapi.co/api/v2/move-learn-method/1/\"},\"version_group\":{\"name\":\"colosseum\",\"url\":\"https://pokeapi.co/api/v2/version-group/12/\"}},{\"level_learned_at\":1,\"move_learn_method\":{\"name\":\"level-up\",\"url\":\"https://pokeapi.co/api/v2/move-learn-method/1/\"},\"version_group\":{\"name\":\"xd\",\"url\":\"https://pokeapi.co/api/v2/version-group/13/\"}},{\"level_learned_at\":1,\"move_learn_method\":{\"name\":\"level-up\",\"url\":\"https://pokeapi.co/api/v2/move-learn-method/1/\"},\"version_group\":{\"name\":\"black-2-white-2\",\"url\":\"https://pokeapi.co/api/v2/version-group/14/\"}},{\"level_learned_at\":1,\"move_learn_method\":{\"name\":\"level-up\",\"url\":\"https://pokeapi.co/api/v2/move-learn-method/1/\"},\"version_group\":{\"name\":\"x-y\",\"url\":\"https://pokeapi.co/api/v2/version-group/15/\"}},{\"level_learned_at\":1,\"move_learn_method\":{\"name\":\"level-up\",\"url\":\"https://pokeapi.co/api/v2/move-learn-method/1/\"},\"version_group\":{\"name\":\"omega-ruby-alpha-sapphire\",\"url\":\"https://pokeapi.co/api/v2/version-group/16/\"}},{\"level_learned_at\":1,\"move_learn_method\":{\"name\":\"level-up\",\"url\":\"https://pokeapi.co/api/v2/move-learn-method/1/\"},\"version_group\":{\"name\":\"sun-moon\",\"url\":\"https://pokeapi.co/api/v2/version-group/17/\"}},{\"level_learned_at\":1,\"move_learn_method\":{\"name\":\"level-up\",\"url\":\"https://pokeapi.co/api/v2/move-learn-method/1/\"},\"version_group\":{\"name\":\"ultra-sun-ultra-moon\",\"url\":\"https://pokeapi.co/api/v2/version-group/18/\"}},{\"level_learned_at\":1,\"move_learn_method\":{\"name\":\"level-up\",\"url\":\"https://pokeapi.co/api/v2/move-learn-method/1/\"},\"version_group\":{\"name\":\"lets-go-pikachu-lets-go-eevee\",\"url\":\"https://pokeapi.co/api/v2/version-group/19/\"}},{\"level_learned_at\":1,\"move_learn_method\":{\"name\":\"level-up\",\"url\":\"https://pokeapi.co/api/v2/move-learn-method/1/\"},\"version_group\":{\"name\":\"sword-shield\",\"url\":\"https://pokeapi.co/api/v2/version-group/20/\"}}]}],\"name\":\"ditto\",\"order\":214,\"past_types\":[],\"species\":{\"name\":\"ditto\",\"url\":\"https://pokeapi.co/api/v2/pokemon-species/132/\"},\"sprites\":{\"back_default\":\"https://raw.githubusercontent.com/PokeAPI/sprites/master/sprites/pokemon/back/132.png\",\"back_female\":null,\"back_shiny\":\"https://raw.githubusercontent.com/PokeAPI/sprites/master/sprites/pokemon/back/shiny/132.png\",\"back_shiny_female\":null,\"front_default\":\"https://raw.githubusercontent.com/PokeAPI/sprites/master/sprites/pokemon/132.png\",\"front_female\":null,\"front_shiny\":\"https://raw.githubusercontent.com/PokeAPI/sprites/master/sprites/pokemon/shiny/132.png\",\"front_shiny_female\":null,\"other\":{\"dream_world\":{\"front_default\":\"https://raw.githubusercontent.com/PokeAPI/sprites/master/sprites/pokemon/other/dream-world/132.svg\",\"front_female\":null},\"home\":{\"front_default\":\"https://raw.githubusercontent.com/PokeAPI/sprites/master/sprites/pokemon/other/home/132.png\",\"front_female\":null,\"front_shiny\":\"https://raw.githubusercontent.com/PokeAPI/sprites/master/sprites/pokemon/other/home/shiny/132.png\",\"front_shiny_female\":null},\"official-artwork\":{\"front_default\":\"https://raw.githubusercontent.com/PokeAPI/sprites/master/sprites/pokemon/other/official-artwork/132.png\"}},\"versions\":{\"generation-i\":{\"red-blue\":{\"back_default\":\"https://raw.githubusercontent.com/PokeAPI/sprites/master/sprites/pokemon/versions/generation-i/red-blue/back/132.png\",\"back_gray\":\"https://raw.githubusercontent.com/PokeAPI/sprites/master/sprites/pokemon/versions/generation-i/red-blue/back/gray/132.png\",\"back_transparent\":\"https://raw.githubusercontent.com/PokeAPI/sprites/master/sprites/pokemon/versions/generation-i/red-blue/transparent/back/132.png\",\"front_default\":\"https://raw.githubusercontent.com/PokeAPI/sprites/master/sprites/pokemon/versions/generation-i/red-blue/132.png\",\"front_gray\":\"https://raw.githubusercontent.com/PokeAPI/sprites/master/sprites/pokemon/versions/generation-i/red-blue/gray/132.png\",\"front_transparent\":\"https://raw.githubusercontent.com/PokeAPI/sprites/master/sprites/pokemon/versions/generation-i/red-blue/transparent/132.png\"},\"yellow\":{\"back_default\":\"https://raw.githubusercontent.com/PokeAPI/sprites/master/sprites/pokemon/versions/generation-i/yellow/back/132.png\",\"back_gray\":\"https://raw.githubusercontent.com/PokeAPI/sprites/master/sprites/pokemon/versions/generation-i/yellow/back/gray/132.png\",\"back_transparent\":\"https://raw.githubusercontent.com/PokeAPI/sprites/master/sprites/pokemon/versions/generation-i/yellow/transparent/back/132.png\",\"front_default\":\"https://raw.githubusercontent.com/PokeAPI/sprites/master/sprites/pokemon/versions/generation-i/yellow/132.png\",\"front_gray\":\"https://raw.githubusercontent.com/PokeAPI/sprites/master/sprites/pokemon/versions/generation-i/yellow/gray/132.png\",\"front_transparent\":\"https://raw.githubusercontent.com/PokeAPI/sprites/master/sprites/pokemon/versions/generation-i/yellow/transparent/132.png\"}},\"generation-ii\":{\"crystal\":{\"back_default\":\"https://raw.githubusercontent.com/PokeAPI/sprites/master/sprites/pokemon/versions/generation-ii/crystal/back/132.png\",\"back_shiny\":\"https://raw.githubusercontent.com/PokeAPI/sprites/master/sprites/pokemon/versions/generation-ii/crystal/back/shiny/132.png\",\"back_shiny_transparent\":\"https://raw.githubusercontent.com/PokeAPI/sprites/master/sprites/pokemon/versions/generation-ii/crystal/transparent/back/shiny/132.png\",\"back_transparent\":\"https://raw.githubusercontent.com/PokeAPI/sprites/master/sprites/pokemon/versions/generation-ii/crystal/transparent/back/132.png\",\"front_default\":\"https://raw.githubusercontent.com/PokeAPI/sprites/master/sprites/pokemon/versions/generation-ii/crystal/132.png\",\"front_shiny\":\"https://raw.githubusercontent.com/PokeAPI/sprites/master/sprites/pokemon/versions/generation-ii/crystal/shiny/132.png\",\"front_shiny_transparent\":\"https://raw.githubusercontent.com/PokeAPI/sprites/master/sprites/pokemon/versions/generation-ii/crystal/transparent/shiny/132.png\",\"front_transparent\":\"https://raw.githubusercontent.com/PokeAPI/sprites/master/sprites/pokemon/versions/generation-ii/crystal/transparent/132.png\"},\"gold\":{\"back_default\":\"https://raw.githubusercontent.com/PokeAPI/sprites/master/sprites/pokemon/versions/generation-ii/gold/back/132.png\",\"back_shiny\":\"https://raw.githubusercontent.com/PokeAPI/sprites/master/sprites/pokemon/versions/generation-ii/gold/back/shiny/132.png\",\"front_default\":\"https://raw.githubusercontent.com/PokeAPI/sprites/master/sprites/pokemon/versions/generation-ii/gold/132.png\",\"front_shiny\":\"https://raw.githubusercontent.com/PokeAPI/sprites/master/sprites/pokemon/versions/generation-ii/gold/shiny/132.png\",\"front_transparent\":\"https://raw.githubusercontent.com/PokeAPI/sprites/master/sprites/pokemon/versions/generation-ii/gold/transparent/132.png\"},\"silver\":{\"back_default\":\"https://raw.githubusercontent.com/PokeAPI/sprites/master/sprites/pokemon/versions/generation-ii/silver/back/132.png\",\"back_shiny\":\"https://raw.githubusercontent.com/PokeAPI/sprites/master/sprites/pokemon/versions/generation-ii/silver/back/shiny/132.png\",\"front_default\":\"https://raw.githubusercontent.com/PokeAPI/sprites/master/sprites/pokemon/versions/generation-ii/silver/132.png\",\"front_shiny\":\"https://raw.githubusercontent.com/PokeAPI/sprites/master/sprites/pokemon/versions/generation-ii/silver/shiny/132.png\",\"front_transparent\":\"https://raw.githubusercontent.com/PokeAPI/sprites/master/sprites/pokemon/versions/generation-ii/silver/transparent/132.png\"}},\"generation-iii\":{\"emerald\":{\"front_default\":\"https://raw.githubusercontent.com/PokeAPI/sprites/master/sprites/pokemon/versions/generation-iii/emerald/132.png\",\"front_shiny\":\"https://raw.githubusercontent.com/PokeAPI/sprites/master/sprites/pokemon/versions/generation-iii/emerald/shiny/132.png\"},\"firered-leafgreen\":{\"back_default\":\"https://raw.githubusercontent.com/PokeAPI/sprites/master/sprites/pokemon/versions/generation-iii/firered-leafgreen/back/132.png\",\"back_shiny\":\"https://raw.githubusercontent.com/PokeAPI/sprites/master/sprites/pokemon/versions/generation-iii/firered-leafgreen/back/shiny/132.png\",\"front_default\":\"https://raw.githubusercontent.com/PokeAPI/sprites/master/sprites/pokemon/versions/generation-iii/firered-leafgreen/132.png\",\"front_shiny\":\"https://raw.githubusercontent.com/PokeAPI/sprites/master/sprites/pokemon/versions/generation-iii/firered-leafgreen/shiny/132.png\"},\"ruby-sapphire\":{\"back_default\":\"https://raw.githubusercontent.com/PokeAPI/sprites/master/sprites/pokemon/versions/generation-iii/ruby-sapphire/back/132.png\",\"back_shiny\":\"https://raw.githubusercontent.com/PokeAPI/sprites/master/sprites/pokemon/versions/generation-iii/ruby-sapphire/back/shiny/132.png\",\"front_default\":\"https://raw.githubusercontent.com/PokeAPI/sprites/master/sprites/pokemon/versions/generation-iii/ruby-sapphire/132.png\",\"front_shiny\":\"https://raw.githubusercontent.com/PokeAPI/sprites/master/sprites/pokemon/versions/generation-iii/ruby-sapphire/shiny/132.png\"}},\"generation-iv\":{\"diamond-pearl\":{\"back_default\":\"https://raw.githubusercontent.com/PokeAPI/sprites/master/sprites/pokemon/versions/generation-iv/diamond-pearl/back/132.png\",\"back_female\":null,\"back_shiny\":\"https://raw.githubusercontent.com/PokeAPI/sprites/master/sprites/pokemon/versions/generation-iv/diamond-pearl/back/shiny/132.png\",\"back_shiny_female\":null,\"front_default\":\"https://raw.githubusercontent.com/PokeAPI/sprites/master/sprites/pokemon/versions/generation-iv/diamond-pearl/132.png\",\"front_female\":null,\"front_shiny\":\"https://raw.githubusercontent.com/PokeAPI/sprites/master/sprites/pokemon/versions/generation-iv/diamond-pearl/shiny/132.png\",\"front_shiny_female\":null},\"heartgold-soulsilver\":{\"back_default\":\"https://raw.githubusercontent.com/PokeAPI/sprites/master/sprites/pokemon/versions/generation-iv/heartgold-soulsilver/back/132.png\",\"back_female\":null,\"back_shiny\":\"https://raw.githubusercontent.com/PokeAPI/sprites/master/sprites/pokemon/versions/generation-iv/heartgold-soulsilver/back/shiny/132.png\",\"back_shiny_female\":null,\"front_default\":\"https://raw.githubusercontent.com/PokeAPI/sprites/master/sprites/pokemon/versions/generation-iv/heartgold-soulsilver/132.png\",\"front_female\":null,\"front_shiny\":\"https://raw.githubusercontent.com/PokeAPI/sprites/master/sprites/pokemon/versions/generation-iv/heartgold-soulsilver/shiny/132.png\",\"front_shiny_female\":null},\"platinum\":{\"back_default\":\"https://raw.githubusercontent.com/PokeAPI/sprites/master/sprites/pokemon/versions/generation-iv/platinum/back/132.png\",\"back_female\":null,\"back_shiny\":\"https://raw.githubusercontent.com/PokeAPI/sprites/master/sprites/pokemon/versions/generation-iv/platinum/back/shiny/132.png\",\"back_shiny_female\":null,\"front_default\":\"https://raw.githubusercontent.com/PokeAPI/sprites/master/sprites/pokemon/versions/generation-iv/platinum/132.png\",\"front_female\":null,\"front_shiny\":\"https://raw.githubusercontent.com/PokeAPI/sprites/master/sprites/pokemon/versions/generation-iv/platinum/shiny/132.png\",\"front_shiny_female\":null}},\"generation-v\":{\"black-white\":{\"animated\":{\"back_default\":\"https://raw.githubusercontent.com/PokeAPI/sprites/master/sprites/pokemon/versions/generation-v/black-white/animated/back/132.gif\",\"back_female\":null,\"back_shiny\":\"https://raw.githubusercontent.com/PokeAPI/sprites/master/sprites/pokemon/versions/generation-v/black-white/animated/back/shiny/132.gif\",\"back_shiny_female\":null,\"front_default\":\"https://raw.githubusercontent.com/PokeAPI/sprites/master/sprites/pokemon/versions/generation-v/black-white/animated/132.gif\",\"front_female\":null,\"front_shiny\":\"https://raw.githubusercontent.com/PokeAPI/sprites/master/sprites/pokemon/versions/generation-v/black-white/animated/shiny/132.gif\",\"front_shiny_female\":null},\"back_default\":\"https://raw.githubusercontent.com/PokeAPI/sprites/master/sprites/pokemon/versions/generation-v/black-white/back/132.png\",\"back_female\":null,\"back_shiny\":\"https://raw.githubusercontent.com/PokeAPI/sprites/master/sprites/pokemon/versions/generation-v/black-white/back/shiny/132.png\",\"back_shiny_female\":null,\"front_default\":\"https://raw.githubusercontent.com/PokeAPI/sprites/master/sprites/pokemon/versions/generation-v/black-white/132.png\",\"front_female\":null,\"front_shiny\":\"https://raw.githubusercontent.com/PokeAPI/sprites/master/sprites/pokemon/versions/generation-v/black-white/shiny/132.png\",\"front_shiny_female\":null}},\"generation-vi\":{\"omegaruby-alphasapphire\":{\"front_default\":\"https://raw.githubusercontent.com/PokeAPI/sprites/master/sprites/pokemon/versions/generation-vi/omegaruby-alphasapphire/132.png\",\"front_female\":null,\"front_shiny\":\"https://raw.githubusercontent.com/PokeAPI/sprites/master/sprites/pokemon/versions/generation-vi/omegaruby-alphasapphire/shiny/132.png\",\"front_shiny_female\":null},\"x-y\":{\"front_default\":\"https://raw.githubusercontent.com/PokeAPI/sprites/master/sprites/pokemon/versions/generation-vi/x-y/132.png\",\"front_female\":null,\"front_shiny\":\"https://raw.githubusercontent.com/PokeAPI/sprites/master/sprites/pokemon/versions/generation-vi/x-y/shiny/132.png\",\"front_shiny_female\":null}},\"generation-vii\":{\"icons\":{\"front_default\":\"https://raw.githubusercontent.com/PokeAPI/sprites/master/sprites/pokemon/versions/generation-vii/icons/132.png\",\"front_female\":null},\"ultra-sun-ultra-moon\":{\"front_default\":\"https://raw.githubusercontent.com/PokeAPI/sprites/master/sprites/pokemon/versions/generation-vii/ultra-sun-ultra-moon/132.png\",\"front_female\":null,\"front_shiny\":\"https://raw.githubusercontent.com/PokeAPI/sprites/master/sprites/pokemon/versions/generation-vii/ultra-sun-ultra-moon/shiny/132.png\",\"front_shiny_female\":null}},\"generation-viii\":{\"icons\":{\"front_default\":\"https://raw.githubusercontent.com/PokeAPI/sprites/master/sprites/pokemon/versions/generation-viii/icons/132.png\",\"front_female\":null}}}},\"stats\":[{\"base_stat\":48,\"effort\":1,\"stat\":{\"name\":\"hp\",\"url\":\"https://pokeapi.co/api/v2/stat/1/\"}},{\"base_stat\":48,\"effort\":0,\"stat\":{\"name\":\"attack\",\"url\":\"https://pokeapi.co/api/v2/stat/2/\"}},{\"base_stat\":48,\"effort\":0,\"stat\":{\"name\":\"defense\",\"url\":\"https://pokeapi.co/api/v2/stat/3/\"}},{\"base_stat\":48,\"effort\":0,\"stat\":{\"name\":\"special-attack\",\"url\":\"https://pokeapi.co/api/v2/stat/4/\"}},{\"base_stat\":48,\"effort\":0,\"stat\":{\"name\":\"special-defense\",\"url\":\"https://pokeapi.co/api/v2/stat/5/\"}},{\"base_stat\":48,\"effort\":0,\"stat\":{\"name\":\"speed\",\"url\":\"https://pokeapi.co/api/v2/stat/6/\"}}],\"types\":[{\"slot\":1,\"type\":{\"name\":\"normal\",\"url\":\"https://pokeapi.co/api/v2/type/1/\"}}],\"weight\":40}'"
      ]
     },
     "execution_count": 7,
     "metadata": {},
     "output_type": "execute_result"
    }
   ],
   "source": [
    "# Text of request\n",
    "res.text"
   ]
  },
  {
   "cell_type": "code",
   "execution_count": 8,
   "metadata": {
    "ExecuteTime": {
     "end_time": "2021-05-11T09:52:43.576833Z",
     "start_time": "2021-05-11T09:52:43.572909Z"
    }
   },
   "outputs": [],
   "source": [
    "# Bring in the JSON!\n",
    "ditto = res.json()"
   ]
  },
  {
   "cell_type": "code",
   "execution_count": 12,
   "metadata": {
    "ExecuteTime": {
     "end_time": "2021-05-11T09:52:51.686263Z",
     "start_time": "2021-05-11T09:52:51.683686Z"
    }
   },
   "outputs": [
    {
     "data": {
      "text/plain": [
       "['abilities',\n",
       " 'base_experience',\n",
       " 'forms',\n",
       " 'game_indices',\n",
       " 'height',\n",
       " 'held_items',\n",
       " 'id',\n",
       " 'is_default',\n",
       " 'location_area_encounters',\n",
       " 'moves',\n",
       " 'name',\n",
       " 'order',\n",
       " 'past_types',\n",
       " 'species',\n",
       " 'sprites',\n",
       " 'stats',\n",
       " 'types',\n",
       " 'weight']"
      ]
     },
     "execution_count": 12,
     "metadata": {},
     "output_type": "execute_result"
    }
   ],
   "source": [
    "# Since we've converted the JSON -> dict, we know how to work with this!\n",
    "sorted(list(ditto.keys()))"
   ]
  },
  {
   "cell_type": "code",
   "execution_count": 13,
   "metadata": {
    "ExecuteTime": {
     "end_time": "2021-05-11T09:53:01.171021Z",
     "start_time": "2021-05-11T09:53:01.168615Z"
    }
   },
   "outputs": [
    {
     "data": {
      "text/plain": [
       "3"
      ]
     },
     "execution_count": 13,
     "metadata": {},
     "output_type": "execute_result"
    }
   ],
   "source": [
    "# Height, Weight\n",
    "ditto['height']"
   ]
  },
  {
   "cell_type": "code",
   "execution_count": 14,
   "metadata": {},
   "outputs": [
    {
     "data": {
      "text/plain": [
       "40"
      ]
     },
     "execution_count": 14,
     "metadata": {},
     "output_type": "execute_result"
    }
   ],
   "source": [
    "ditto['weight']"
   ]
  },
  {
   "cell_type": "markdown",
   "metadata": {},
   "source": [
    "## Challenge\n",
    "---\n",
    "What moves can Pikachu learn? In the cells below, do the following:\n",
    "1. Use `requests` library to get Pikachu's data\n",
    "1. Convert the JSON into a Python dictionary.\n",
    "1. Use list comprehension to get just the names of each move. Your result should look like this:\n",
    "\n",
    "```python\n",
    "['mega-punch',\n",
    " 'pay-day',\n",
    " 'thunder-punch',\n",
    " 'slam',\n",
    " 'mega-kick',\n",
    " 'headbutt',\n",
    " 'body-slam',\n",
    " 'take-down',\n",
    " ...\n",
    "]\n",
    "```"
   ]
  },
  {
   "cell_type": "code",
   "execution_count": 19,
   "metadata": {
    "ExecuteTime": {
     "end_time": "2021-05-11T09:55:00.039407Z",
     "start_time": "2021-05-11T09:55:00.035626Z"
    }
   },
   "outputs": [],
   "source": [
    "# Use requests library to get Pikachu's data\n",
    "url = 'https://pokeapi.co/api/v2/pokemon/pikachu'\n",
    "res = requests.get(url)"
   ]
  },
  {
   "cell_type": "code",
   "execution_count": 20,
   "metadata": {},
   "outputs": [
    {
     "data": {
      "text/plain": [
       "200"
      ]
     },
     "execution_count": 20,
     "metadata": {},
     "output_type": "execute_result"
    }
   ],
   "source": [
    "res.status_code"
   ]
  },
  {
   "cell_type": "code",
   "execution_count": 21,
   "metadata": {},
   "outputs": [],
   "source": [
    "# Convert the JSON into a Python dictionary.\n",
    "pikachu = res.json()"
   ]
  },
  {
   "cell_type": "code",
   "execution_count": 31,
   "metadata": {},
   "outputs": [
    {
     "data": {
      "text/plain": [
       "'mega-punch'"
      ]
     },
     "execution_count": 31,
     "metadata": {},
     "output_type": "execute_result"
    }
   ],
   "source": [
    "# Use list comprehension to get just the names of each move.\n",
    "move = pikachu['moves'][0]\n",
    "move['move']['name']"
   ]
  },
  {
   "cell_type": "code",
   "execution_count": 32,
   "metadata": {},
   "outputs": [
    {
     "data": {
      "text/plain": [
       "['mega-punch',\n",
       " 'pay-day',\n",
       " 'thunder-punch',\n",
       " 'slam',\n",
       " 'double-kick',\n",
       " 'mega-kick',\n",
       " 'headbutt',\n",
       " 'body-slam',\n",
       " 'take-down',\n",
       " 'double-edge',\n",
       " 'tail-whip',\n",
       " 'growl',\n",
       " 'surf',\n",
       " 'submission',\n",
       " 'counter',\n",
       " 'seismic-toss',\n",
       " 'strength',\n",
       " 'thunder-shock',\n",
       " 'thunderbolt',\n",
       " 'thunder-wave',\n",
       " 'thunder',\n",
       " 'dig',\n",
       " 'toxic',\n",
       " 'agility',\n",
       " 'quick-attack',\n",
       " 'rage',\n",
       " 'mimic',\n",
       " 'double-team',\n",
       " 'defense-curl',\n",
       " 'light-screen',\n",
       " 'reflect',\n",
       " 'bide',\n",
       " 'swift',\n",
       " 'skull-bash',\n",
       " 'flash',\n",
       " 'rest',\n",
       " 'substitute',\n",
       " 'thief',\n",
       " 'snore',\n",
       " 'curse',\n",
       " 'reversal',\n",
       " 'protect',\n",
       " 'sweet-kiss',\n",
       " 'mud-slap',\n",
       " 'zap-cannon',\n",
       " 'detect',\n",
       " 'endure',\n",
       " 'charm',\n",
       " 'rollout',\n",
       " 'swagger',\n",
       " 'spark',\n",
       " 'attract',\n",
       " 'sleep-talk',\n",
       " 'return',\n",
       " 'frustration',\n",
       " 'dynamic-punch',\n",
       " 'encore',\n",
       " 'iron-tail',\n",
       " 'hidden-power',\n",
       " 'rain-dance',\n",
       " 'rock-smash',\n",
       " 'uproar',\n",
       " 'facade',\n",
       " 'focus-punch',\n",
       " 'helping-hand',\n",
       " 'brick-break',\n",
       " 'knock-off',\n",
       " 'secret-power',\n",
       " 'signal-beam',\n",
       " 'covet',\n",
       " 'volt-tackle',\n",
       " 'calm-mind',\n",
       " 'shock-wave',\n",
       " 'natural-gift',\n",
       " 'feint',\n",
       " 'fling',\n",
       " 'magnet-rise',\n",
       " 'nasty-plot',\n",
       " 'discharge',\n",
       " 'captivate',\n",
       " 'grass-knot',\n",
       " 'charge-beam',\n",
       " 'electro-ball',\n",
       " 'round',\n",
       " 'echoed-voice',\n",
       " 'volt-switch',\n",
       " 'electroweb',\n",
       " 'wild-charge',\n",
       " 'draining-kiss',\n",
       " 'play-rough',\n",
       " 'play-nice',\n",
       " 'confide',\n",
       " 'electric-terrain',\n",
       " 'nuzzle',\n",
       " 'laser-focus',\n",
       " 'rising-voltage']"
      ]
     },
     "execution_count": 32,
     "metadata": {},
     "output_type": "execute_result"
    }
   ],
   "source": [
    "[move['move']['name'] for move in pikachu['moves']]"
   ]
  },
  {
   "cell_type": "code",
   "execution_count": 33,
   "metadata": {},
   "outputs": [
    {
     "data": {
      "text/plain": [
       "{'move': {'name': 'mega-punch', 'url': 'https://pokeapi.co/api/v2/move/5/'},\n",
       " 'version_group_details': [{'level_learned_at': 0,\n",
       "   'move_learn_method': {'name': 'machine',\n",
       "    'url': 'https://pokeapi.co/api/v2/move-learn-method/4/'},\n",
       "   'version_group': {'name': 'red-blue',\n",
       "    'url': 'https://pokeapi.co/api/v2/version-group/1/'}},\n",
       "  {'level_learned_at': 0,\n",
       "   'move_learn_method': {'name': 'machine',\n",
       "    'url': 'https://pokeapi.co/api/v2/move-learn-method/4/'},\n",
       "   'version_group': {'name': 'yellow',\n",
       "    'url': 'https://pokeapi.co/api/v2/version-group/2/'}},\n",
       "  {'level_learned_at': 0,\n",
       "   'move_learn_method': {'name': 'tutor',\n",
       "    'url': 'https://pokeapi.co/api/v2/move-learn-method/3/'},\n",
       "   'version_group': {'name': 'emerald',\n",
       "    'url': 'https://pokeapi.co/api/v2/version-group/6/'}},\n",
       "  {'level_learned_at': 0,\n",
       "   'move_learn_method': {'name': 'tutor',\n",
       "    'url': 'https://pokeapi.co/api/v2/move-learn-method/3/'},\n",
       "   'version_group': {'name': 'firered-leafgreen',\n",
       "    'url': 'https://pokeapi.co/api/v2/version-group/7/'}},\n",
       "  {'level_learned_at': 0,\n",
       "   'move_learn_method': {'name': 'machine',\n",
       "    'url': 'https://pokeapi.co/api/v2/move-learn-method/4/'},\n",
       "   'version_group': {'name': 'sword-shield',\n",
       "    'url': 'https://pokeapi.co/api/v2/version-group/20/'}}]}"
      ]
     },
     "execution_count": 33,
     "metadata": {},
     "output_type": "execute_result"
    }
   ],
   "source": [
    "move"
   ]
  },
  {
   "cell_type": "markdown",
   "metadata": {},
   "source": [
    "## Creating a `pandas` DataFrame from JSON\n",
    "---\n",
    "To create a DataFrame, we simply need a list of dictionaries. Let's try creating a DataFrame from Pikachu's abilities."
   ]
  },
  {
   "cell_type": "code",
   "execution_count": 35,
   "metadata": {},
   "outputs": [
    {
     "data": {
      "text/html": [
       "<div>\n",
       "<style scoped>\n",
       "    .dataframe tbody tr th:only-of-type {\n",
       "        vertical-align: middle;\n",
       "    }\n",
       "\n",
       "    .dataframe tbody tr th {\n",
       "        vertical-align: top;\n",
       "    }\n",
       "\n",
       "    .dataframe thead th {\n",
       "        text-align: right;\n",
       "    }\n",
       "</style>\n",
       "<table border=\"1\" class=\"dataframe\">\n",
       "  <thead>\n",
       "    <tr style=\"text-align: right;\">\n",
       "      <th></th>\n",
       "      <th>name</th>\n",
       "      <th>location</th>\n",
       "    </tr>\n",
       "  </thead>\n",
       "  <tbody>\n",
       "    <tr>\n",
       "      <th>0</th>\n",
       "      <td>Riley</td>\n",
       "      <td>NaN</td>\n",
       "    </tr>\n",
       "    <tr>\n",
       "      <th>1</th>\n",
       "      <td>Katie</td>\n",
       "      <td>NaN</td>\n",
       "    </tr>\n",
       "    <tr>\n",
       "      <th>2</th>\n",
       "      <td>Alanna</td>\n",
       "      <td>SEA</td>\n",
       "    </tr>\n",
       "  </tbody>\n",
       "</table>\n",
       "</div>"
      ],
      "text/plain": [
       "     name location\n",
       "0   Riley      NaN\n",
       "1   Katie      NaN\n",
       "2  Alanna      SEA"
      ]
     },
     "execution_count": 35,
     "metadata": {},
     "output_type": "execute_result"
    }
   ],
   "source": [
    "instructors = [\n",
    "    {'name': 'Riley'},\n",
    "    {'name': 'Katie'},\n",
    "    {'name': 'Alanna', 'location': 'SEA'}\n",
    "]\n",
    "pd.DataFrame(instructors)"
   ]
  },
  {
   "cell_type": "markdown",
   "metadata": {},
   "source": [
    "That's all fine and good. But notice each `ability` is a dictionary. In the cell below, let's extract the `name` from each ability and set it as its own column."
   ]
  },
  {
   "cell_type": "code",
   "execution_count": 37,
   "metadata": {},
   "outputs": [],
   "source": [
    "pikachu_df = pd.DataFrame(pikachu['abilities'])"
   ]
  },
  {
   "cell_type": "code",
   "execution_count": 41,
   "metadata": {},
   "outputs": [
    {
     "data": {
      "text/html": [
       "<div>\n",
       "<style scoped>\n",
       "    .dataframe tbody tr th:only-of-type {\n",
       "        vertical-align: middle;\n",
       "    }\n",
       "\n",
       "    .dataframe tbody tr th {\n",
       "        vertical-align: top;\n",
       "    }\n",
       "\n",
       "    .dataframe thead th {\n",
       "        text-align: right;\n",
       "    }\n",
       "</style>\n",
       "<table border=\"1\" class=\"dataframe\">\n",
       "  <thead>\n",
       "    <tr style=\"text-align: right;\">\n",
       "      <th></th>\n",
       "      <th>ability</th>\n",
       "      <th>is_hidden</th>\n",
       "      <th>slot</th>\n",
       "      <th>name</th>\n",
       "    </tr>\n",
       "  </thead>\n",
       "  <tbody>\n",
       "    <tr>\n",
       "      <th>0</th>\n",
       "      <td>{'name': 'static', 'url': 'https://pokeapi.co/...</td>\n",
       "      <td>False</td>\n",
       "      <td>1</td>\n",
       "      <td>static</td>\n",
       "    </tr>\n",
       "    <tr>\n",
       "      <th>1</th>\n",
       "      <td>{'name': 'lightning-rod', 'url': 'https://poke...</td>\n",
       "      <td>True</td>\n",
       "      <td>3</td>\n",
       "      <td>lightning-rod</td>\n",
       "    </tr>\n",
       "  </tbody>\n",
       "</table>\n",
       "</div>"
      ],
      "text/plain": [
       "                                             ability  is_hidden  slot  \\\n",
       "0  {'name': 'static', 'url': 'https://pokeapi.co/...      False     1   \n",
       "1  {'name': 'lightning-rod', 'url': 'https://poke...       True     3   \n",
       "\n",
       "            name  \n",
       "0         static  \n",
       "1  lightning-rod  "
      ]
     },
     "execution_count": 41,
     "metadata": {},
     "output_type": "execute_result"
    }
   ],
   "source": [
    "def extract_name(ability_dict):\n",
    "    return ability_dict['name']\n",
    "\n",
    "pikachu_df['name'] = pikachu_df['ability'].map(extract_name)\n",
    "pikachu_df"
   ]
  },
  {
   "cell_type": "markdown",
   "metadata": {},
   "source": [
    "## Challenge: get a description for each ability.\n",
    "---\n",
    "\n",
    "If you're a Pokemon neophyte (like me), you might not know what the **static** is. Fortunately, we can use the `url` from our `ability` dictionary to make an API request. Because we're hitting several URLs in a loop, we want to throttle our requests so as not to overwhelm the API.\n",
    "\n",
    "In the cell below, create a function that retrieves the `effect`. NOTE: There are multiple languages, choose one."
   ]
  },
  {
   "cell_type": "code",
   "execution_count": null,
   "metadata": {},
   "outputs": [],
   "source": []
  },
  {
   "cell_type": "markdown",
   "metadata": {},
   "source": [
    "Now use the `.map()` method to get the effect for each ability."
   ]
  },
  {
   "cell_type": "code",
   "execution_count": null,
   "metadata": {},
   "outputs": [],
   "source": []
  },
  {
   "cell_type": "markdown",
   "metadata": {},
   "source": [
    "\n",
    "## On to Reddit!\n",
    "\n",
    "----\n",
    "\n",
    "<img src=\"imgs/reddit_logo.png\" style=\"width: 250px; margin: 0 0 20px 0;\" alt=\"Reddit Logo\" />\n",
    "\n",
    "We'll use the PushShift API. \n",
    "\n",
    "[Click for documentation](https://github.com/pushshift/api)"
   ]
  },
  {
   "cell_type": "code",
   "execution_count": 42,
   "metadata": {
    "ExecuteTime": {
     "end_time": "2021-05-11T11:14:02.328840Z",
     "start_time": "2021-05-11T11:14:02.217257Z"
    }
   },
   "outputs": [],
   "source": [
    "url = 'https://api.pushshift.io/reddit/search/submission'"
   ]
  },
  {
   "cell_type": "markdown",
   "metadata": {},
   "source": [
    "## Parameters\n",
    "---\n",
    "\n",
    "If we want the post recent posts from /r/Science, we have to use the `subreddit` parameter. The URL would be as follows:\n",
    "\n",
    "https://api.pushshift.io/reddit/search/submission/?subreddit=science\n",
    "\n",
    "Parameters are everything after the `?` in a URL. They're sort of like a dictionary, in that each parameter is a key/value pair. (ie `subreddit=science`). \n",
    "\n",
    "Multiple parameters are separated with a `&`.\n",
    "\n",
    "https://api.pushshift.io/reddit/search/submission/?subreddit=science&foo=bar\n",
    "\n",
    "## Challenge\n",
    "---\n",
    "Use the API documentation to answer the following question:\n",
    "\n",
    "How would we search for the word \"election\" in [/r/news](https://reddit.com/r/news)? Your answer should be a URL with two parameters."
   ]
  },
  {
   "cell_type": "code",
   "execution_count": 48,
   "metadata": {},
   "outputs": [
    {
     "data": {
      "text/plain": [
       "'https://api.pushshift.io/reddit/search/submission?subreddit=news&q=election+2022'"
      ]
     },
     "execution_count": 48,
     "metadata": {},
     "output_type": "execute_result"
    }
   ],
   "source": [
    "# NOTE: You already have base_url\n",
    "url + '?subreddit=news&q=election+2022'"
   ]
  },
  {
   "cell_type": "markdown",
   "metadata": {},
   "source": [
    "## Route\n",
    "https://api.pushshift.io/reddit/search/submission\n",
    "\n",
    "## Params\n",
    "?\n",
    "\n",
    "subreddit=news\n",
    "&\n",
    "q=election+2022"
   ]
  },
  {
   "cell_type": "markdown",
   "metadata": {},
   "source": [
    "With the `requests` library, we can use the full URL (including params):\n",
    "\n",
    "```python\n",
    "requests.get('https://api.pushshift.io/reddit/search/submission/?subreddit=news&q=election')\n",
    "```\n",
    "\n",
    "Or (even better), the `requests` will accept the parameters as a dictionary:\n",
    "\n",
    "```python\n",
    "params = {\n",
    "    'subreddit': 'news',\n",
    "    'q': 'election'\n",
    "}\n",
    "requests.get(base_url + 'search/submission/', params=params)\n",
    "```"
   ]
  },
  {
   "cell_type": "code",
   "execution_count": 52,
   "metadata": {},
   "outputs": [],
   "source": [
    "# Get the most recent *50* posts from */r/news* containing the word *\"election\"*\n",
    "params = {\n",
    "    'subreddit': 'news',\n",
    "    'q': 'election',\n",
    "    'size': 50\n",
    "}\n",
    "\n",
    "res = requests.get(url, params=params)"
   ]
  },
  {
   "cell_type": "code",
   "execution_count": 53,
   "metadata": {},
   "outputs": [
    {
     "data": {
      "text/plain": [
       "200"
      ]
     },
     "execution_count": 53,
     "metadata": {},
     "output_type": "execute_result"
    }
   ],
   "source": [
    "res.status_code"
   ]
  },
  {
   "cell_type": "code",
   "execution_count": 54,
   "metadata": {},
   "outputs": [],
   "source": [
    "data = res.json()"
   ]
  },
  {
   "cell_type": "code",
   "execution_count": 56,
   "metadata": {},
   "outputs": [
    {
     "data": {
      "text/plain": [
       "dict_keys(['data'])"
      ]
     },
     "execution_count": 56,
     "metadata": {},
     "output_type": "execute_result"
    }
   ],
   "source": [
    "data.keys()"
   ]
  },
  {
   "cell_type": "code",
   "execution_count": 63,
   "metadata": {},
   "outputs": [
    {
     "data": {
      "text/html": [
       "<div>\n",
       "<style scoped>\n",
       "    .dataframe tbody tr th:only-of-type {\n",
       "        vertical-align: middle;\n",
       "    }\n",
       "\n",
       "    .dataframe tbody tr th {\n",
       "        vertical-align: top;\n",
       "    }\n",
       "\n",
       "    .dataframe thead th {\n",
       "        text-align: right;\n",
       "    }\n",
       "</style>\n",
       "<table border=\"1\" class=\"dataframe\">\n",
       "  <thead>\n",
       "    <tr style=\"text-align: right;\">\n",
       "      <th></th>\n",
       "      <th>title</th>\n",
       "      <th>selftext</th>\n",
       "      <th>subreddit</th>\n",
       "      <th>created_utc</th>\n",
       "    </tr>\n",
       "  </thead>\n",
       "  <tbody>\n",
       "    <tr>\n",
       "      <th>0</th>\n",
       "      <td>Election round up: PM Narendra Modi meets seve...</td>\n",
       "      <td></td>\n",
       "      <td>news</td>\n",
       "      <td>1645209330</td>\n",
       "    </tr>\n",
       "    <tr>\n",
       "      <th>1</th>\n",
       "      <td>Amazon agrees nyc union election terms setting...</td>\n",
       "      <td></td>\n",
       "      <td>news</td>\n",
       "      <td>1645067708</td>\n",
       "    </tr>\n",
       "    <tr>\n",
       "      <th>2</th>\n",
       "      <td>Latest plan by the election crybabies at the A...</td>\n",
       "      <td></td>\n",
       "      <td>news</td>\n",
       "      <td>1645026613</td>\n",
       "    </tr>\n",
       "    <tr>\n",
       "      <th>3</th>\n",
       "      <td>Clerk who espoused election fraud conspiracies...</td>\n",
       "      <td></td>\n",
       "      <td>news</td>\n",
       "      <td>1645012775</td>\n",
       "    </tr>\n",
       "    <tr>\n",
       "      <th>4</th>\n",
       "      <td>UP Phase 2 Election 2022 Highlights</td>\n",
       "      <td></td>\n",
       "      <td>news</td>\n",
       "      <td>1644936927</td>\n",
       "    </tr>\n",
       "    <tr>\n",
       "      <th>5</th>\n",
       "      <td>Manchin clarifies: He'd oppose second high cou...</td>\n",
       "      <td></td>\n",
       "      <td>news</td>\n",
       "      <td>1644925638</td>\n",
       "    </tr>\n",
       "    <tr>\n",
       "      <th>6</th>\n",
       "      <td>BREAKING：P&amp;amp;G taking advantage of forced la...</td>\n",
       "      <td></td>\n",
       "      <td>news</td>\n",
       "      <td>1644910081</td>\n",
       "    </tr>\n",
       "    <tr>\n",
       "      <th>7</th>\n",
       "      <td>Election round up: Heavy turnout in UP, Uttara...</td>\n",
       "      <td></td>\n",
       "      <td>news</td>\n",
       "      <td>1644863726</td>\n",
       "    </tr>\n",
       "    <tr>\n",
       "      <th>8</th>\n",
       "      <td>Turkmenistan to hold early presidential electi...</td>\n",
       "      <td></td>\n",
       "      <td>news</td>\n",
       "      <td>1644857087</td>\n",
       "    </tr>\n",
       "    <tr>\n",
       "      <th>9</th>\n",
       "      <td>Chinese spies attempted to install Labor candi...</td>\n",
       "      <td></td>\n",
       "      <td>news</td>\n",
       "      <td>1644626395</td>\n",
       "    </tr>\n",
       "    <tr>\n",
       "      <th>10</th>\n",
       "      <td>[Australian] Government shelves religious free...</td>\n",
       "      <td></td>\n",
       "      <td>news</td>\n",
       "      <td>1644463925</td>\n",
       "    </tr>\n",
       "    <tr>\n",
       "      <th>11</th>\n",
       "      <td>In Punjab’s ‘NRI Belt’, Families Want a Stable...</td>\n",
       "      <td></td>\n",
       "      <td>news</td>\n",
       "      <td>1644380016</td>\n",
       "    </tr>\n",
       "    <tr>\n",
       "      <th>12</th>\n",
       "      <td>Akwa Ibom state 2023 Guber election: Rigged PD...</td>\n",
       "      <td></td>\n",
       "      <td>news</td>\n",
       "      <td>1644340614</td>\n",
       "    </tr>\n",
       "    <tr>\n",
       "      <th>13</th>\n",
       "      <td>At an Amazon warehouse in Alabama, a milestone...</td>\n",
       "      <td></td>\n",
       "      <td>news</td>\n",
       "      <td>1644328472</td>\n",
       "    </tr>\n",
       "    <tr>\n",
       "      <th>14</th>\n",
       "      <td>Nikki Haley criticized Mike Pence for saying t...</td>\n",
       "      <td></td>\n",
       "      <td>news</td>\n",
       "      <td>1644323796</td>\n",
       "    </tr>\n",
       "    <tr>\n",
       "      <th>15</th>\n",
       "      <td>Trump’s election advisers were like ‘snake oil...</td>\n",
       "      <td></td>\n",
       "      <td>news</td>\n",
       "      <td>1644183310</td>\n",
       "    </tr>\n",
       "    <tr>\n",
       "      <th>16</th>\n",
       "      <td>Michael Flynn Is Still at War | The general tr...</td>\n",
       "      <td></td>\n",
       "      <td>news</td>\n",
       "      <td>1644162790</td>\n",
       "    </tr>\n",
       "    <tr>\n",
       "      <th>17</th>\n",
       "      <td>They just won’t give up. Arizona Republicans W...</td>\n",
       "      <td></td>\n",
       "      <td>news</td>\n",
       "      <td>1644093099</td>\n",
       "    </tr>\n",
       "    <tr>\n",
       "      <th>18</th>\n",
       "      <td>Pence says Trump wrong in saying VP could over...</td>\n",
       "      <td></td>\n",
       "      <td>news</td>\n",
       "      <td>1644010855</td>\n",
       "    </tr>\n",
       "    <tr>\n",
       "      <th>19</th>\n",
       "      <td>‘Trump Is Wrong,’ Pence Says of False Claim Ab...</td>\n",
       "      <td>[deleted]</td>\n",
       "      <td>news</td>\n",
       "      <td>1644010249</td>\n",
       "    </tr>\n",
       "    <tr>\n",
       "      <th>20</th>\n",
       "      <td>Pence says Trump wrong in saying VP could over...</td>\n",
       "      <td></td>\n",
       "      <td>news</td>\n",
       "      <td>1644007954</td>\n",
       "    </tr>\n",
       "    <tr>\n",
       "      <th>21</th>\n",
       "      <td>Pence says Trump wrong in saying VP could over...</td>\n",
       "      <td></td>\n",
       "      <td>news</td>\n",
       "      <td>1644007952</td>\n",
       "    </tr>\n",
       "    <tr>\n",
       "      <th>22</th>\n",
       "      <td>Texas man charged with threatening Georgia ele...</td>\n",
       "      <td></td>\n",
       "      <td>news</td>\n",
       "      <td>1643991409</td>\n",
       "    </tr>\n",
       "    <tr>\n",
       "      <th>23</th>\n",
       "      <td>Arizona republican house speaker effectively d...</td>\n",
       "      <td></td>\n",
       "      <td>news</td>\n",
       "      <td>1643981277</td>\n",
       "    </tr>\n",
       "    <tr>\n",
       "      <th>24</th>\n",
       "      <td>African Union: Morocco’s election to the CPS d...</td>\n",
       "      <td></td>\n",
       "      <td>news</td>\n",
       "      <td>1643963071</td>\n",
       "    </tr>\n",
       "    <tr>\n",
       "      <th>25</th>\n",
       "      <td>States seek to protect election workers amid g...</td>\n",
       "      <td></td>\n",
       "      <td>news</td>\n",
       "      <td>1643921607</td>\n",
       "    </tr>\n",
       "    <tr>\n",
       "      <th>26</th>\n",
       "      <td>Memo circulated among Trump allies advocated u...</td>\n",
       "      <td></td>\n",
       "      <td>news</td>\n",
       "      <td>1643896552</td>\n",
       "    </tr>\n",
       "    <tr>\n",
       "      <th>27</th>\n",
       "      <td>'Fauci Can Pound Sand': DeSantis takes on Dr. ...</td>\n",
       "      <td></td>\n",
       "      <td>news</td>\n",
       "      <td>1643832338</td>\n",
       "    </tr>\n",
       "    <tr>\n",
       "      <th>28</th>\n",
       "      <td>Conspiracy charges possible for filing bogus T...</td>\n",
       "      <td></td>\n",
       "      <td>news</td>\n",
       "      <td>1643826200</td>\n",
       "    </tr>\n",
       "    <tr>\n",
       "      <th>29</th>\n",
       "      <td>Cawthorn sues N.C. election board over reelect...</td>\n",
       "      <td></td>\n",
       "      <td>news</td>\n",
       "      <td>1643747146</td>\n",
       "    </tr>\n",
       "    <tr>\n",
       "      <th>30</th>\n",
       "      <td>Analysis: Donald Trump just made it much more ...</td>\n",
       "      <td></td>\n",
       "      <td>news</td>\n",
       "      <td>1643740337</td>\n",
       "    </tr>\n",
       "    <tr>\n",
       "      <th>31</th>\n",
       "      <td>Trump says he wanted Pence to overturn the 202...</td>\n",
       "      <td></td>\n",
       "      <td>news</td>\n",
       "      <td>1643649398</td>\n",
       "    </tr>\n",
       "    <tr>\n",
       "      <th>32</th>\n",
       "      <td>Portugal election: Socialists win unexpected m...</td>\n",
       "      <td></td>\n",
       "      <td>news</td>\n",
       "      <td>1643621464</td>\n",
       "    </tr>\n",
       "    <tr>\n",
       "      <th>33</th>\n",
       "      <td>Portugal general election: Socialists win surp...</td>\n",
       "      <td></td>\n",
       "      <td>news</td>\n",
       "      <td>1643614532</td>\n",
       "    </tr>\n",
       "    <tr>\n",
       "      <th>34</th>\n",
       "      <td>Portugal's PM Costa stuns with majority win in...</td>\n",
       "      <td></td>\n",
       "      <td>news</td>\n",
       "      <td>1643606046</td>\n",
       "    </tr>\n",
       "    <tr>\n",
       "      <th>35</th>\n",
       "      <td>Georgia county purges Democrats from election ...</td>\n",
       "      <td></td>\n",
       "      <td>news</td>\n",
       "      <td>1643593690</td>\n",
       "    </tr>\n",
       "    <tr>\n",
       "      <th>36</th>\n",
       "      <td>Portugal’s ruling Socialist party on course to...</td>\n",
       "      <td></td>\n",
       "      <td>news</td>\n",
       "      <td>1643580575</td>\n",
       "    </tr>\n",
       "    <tr>\n",
       "      <th>37</th>\n",
       "      <td>Exit poll suggests Socialists win re-election ...</td>\n",
       "      <td></td>\n",
       "      <td>news</td>\n",
       "      <td>1643574516</td>\n",
       "    </tr>\n",
       "    <tr>\n",
       "      <th>38</th>\n",
       "      <td>Election round-up: BJP hopefuls protest in Man...</td>\n",
       "      <td></td>\n",
       "      <td>news</td>\n",
       "      <td>1643571349</td>\n",
       "    </tr>\n",
       "    <tr>\n",
       "      <th>39</th>\n",
       "      <td>Michael Flynn doubles down on conspiracy theor...</td>\n",
       "      <td></td>\n",
       "      <td>news</td>\n",
       "      <td>1643549811</td>\n",
       "    </tr>\n",
       "    <tr>\n",
       "      <th>40</th>\n",
       "      <td>Michael Flynn doubles down on conspiracy theor...</td>\n",
       "      <td></td>\n",
       "      <td>news</td>\n",
       "      <td>1643549792</td>\n",
       "    </tr>\n",
       "    <tr>\n",
       "      <th>41</th>\n",
       "      <td>Texas Governor Abbott Turns to Bitcoin Miners ...</td>\n",
       "      <td></td>\n",
       "      <td>news</td>\n",
       "      <td>1643549054</td>\n",
       "    </tr>\n",
       "    <tr>\n",
       "      <th>42</th>\n",
       "      <td>Election round-up: Sidhu files nomination pape...</td>\n",
       "      <td></td>\n",
       "      <td>news</td>\n",
       "      <td>1643481323</td>\n",
       "    </tr>\n",
       "    <tr>\n",
       "      <th>43</th>\n",
       "      <td>Arizona Republicans introduce election subvers...</td>\n",
       "      <td></td>\n",
       "      <td>news</td>\n",
       "      <td>1643477239</td>\n",
       "    </tr>\n",
       "    <tr>\n",
       "      <th>44</th>\n",
       "      <td>MSNBC’s Malcolm Nance Sounds the Alarm: ‘There...</td>\n",
       "      <td></td>\n",
       "      <td>news</td>\n",
       "      <td>1643475401</td>\n",
       "    </tr>\n",
       "    <tr>\n",
       "      <th>45</th>\n",
       "      <td>17 percent see path to reinstate Trump before ...</td>\n",
       "      <td></td>\n",
       "      <td>news</td>\n",
       "      <td>1643464672</td>\n",
       "    </tr>\n",
       "    <tr>\n",
       "      <th>46</th>\n",
       "      <td>Twitter says it has quit taking action against...</td>\n",
       "      <td></td>\n",
       "      <td>news</td>\n",
       "      <td>1643420809</td>\n",
       "    </tr>\n",
       "    <tr>\n",
       "      <th>47</th>\n",
       "      <td>Jan. 6 committee subpoenas 14 'alternate elect...</td>\n",
       "      <td></td>\n",
       "      <td>news</td>\n",
       "      <td>1643405422</td>\n",
       "    </tr>\n",
       "    <tr>\n",
       "      <th>48</th>\n",
       "      <td>Nevada man charged with making threatening pho...</td>\n",
       "      <td></td>\n",
       "      <td>news</td>\n",
       "      <td>1643367005</td>\n",
       "    </tr>\n",
       "    <tr>\n",
       "      <th>49</th>\n",
       "      <td>Arizona bill would let state lawmakers reject ...</td>\n",
       "      <td></td>\n",
       "      <td>news</td>\n",
       "      <td>1643305480</td>\n",
       "    </tr>\n",
       "  </tbody>\n",
       "</table>\n",
       "</div>"
      ],
      "text/plain": [
       "                                                title   selftext subreddit  \\\n",
       "0   Election round up: PM Narendra Modi meets seve...                 news   \n",
       "1   Amazon agrees nyc union election terms setting...                 news   \n",
       "2   Latest plan by the election crybabies at the A...                 news   \n",
       "3   Clerk who espoused election fraud conspiracies...                 news   \n",
       "4                 UP Phase 2 Election 2022 Highlights                 news   \n",
       "5   Manchin clarifies: He'd oppose second high cou...                 news   \n",
       "6   BREAKING：P&amp;G taking advantage of forced la...                 news   \n",
       "7   Election round up: Heavy turnout in UP, Uttara...                 news   \n",
       "8   Turkmenistan to hold early presidential electi...                 news   \n",
       "9   Chinese spies attempted to install Labor candi...                 news   \n",
       "10  [Australian] Government shelves religious free...                 news   \n",
       "11  In Punjab’s ‘NRI Belt’, Families Want a Stable...                 news   \n",
       "12  Akwa Ibom state 2023 Guber election: Rigged PD...                 news   \n",
       "13  At an Amazon warehouse in Alabama, a milestone...                 news   \n",
       "14  Nikki Haley criticized Mike Pence for saying t...                 news   \n",
       "15  Trump’s election advisers were like ‘snake oil...                 news   \n",
       "16  Michael Flynn Is Still at War | The general tr...                 news   \n",
       "17  They just won’t give up. Arizona Republicans W...                 news   \n",
       "18  Pence says Trump wrong in saying VP could over...                 news   \n",
       "19  ‘Trump Is Wrong,’ Pence Says of False Claim Ab...  [deleted]      news   \n",
       "20  Pence says Trump wrong in saying VP could over...                 news   \n",
       "21  Pence says Trump wrong in saying VP could over...                 news   \n",
       "22  Texas man charged with threatening Georgia ele...                 news   \n",
       "23  Arizona republican house speaker effectively d...                 news   \n",
       "24  African Union: Morocco’s election to the CPS d...                 news   \n",
       "25  States seek to protect election workers amid g...                 news   \n",
       "26  Memo circulated among Trump allies advocated u...                 news   \n",
       "27  'Fauci Can Pound Sand': DeSantis takes on Dr. ...                 news   \n",
       "28  Conspiracy charges possible for filing bogus T...                 news   \n",
       "29  Cawthorn sues N.C. election board over reelect...                 news   \n",
       "30  Analysis: Donald Trump just made it much more ...                 news   \n",
       "31  Trump says he wanted Pence to overturn the 202...                 news   \n",
       "32  Portugal election: Socialists win unexpected m...                 news   \n",
       "33  Portugal general election: Socialists win surp...                 news   \n",
       "34  Portugal's PM Costa stuns with majority win in...                 news   \n",
       "35  Georgia county purges Democrats from election ...                 news   \n",
       "36  Portugal’s ruling Socialist party on course to...                 news   \n",
       "37  Exit poll suggests Socialists win re-election ...                 news   \n",
       "38  Election round-up: BJP hopefuls protest in Man...                 news   \n",
       "39  Michael Flynn doubles down on conspiracy theor...                 news   \n",
       "40  Michael Flynn doubles down on conspiracy theor...                 news   \n",
       "41  Texas Governor Abbott Turns to Bitcoin Miners ...                 news   \n",
       "42  Election round-up: Sidhu files nomination pape...                 news   \n",
       "43  Arizona Republicans introduce election subvers...                 news   \n",
       "44  MSNBC’s Malcolm Nance Sounds the Alarm: ‘There...                 news   \n",
       "45  17 percent see path to reinstate Trump before ...                 news   \n",
       "46  Twitter says it has quit taking action against...                 news   \n",
       "47  Jan. 6 committee subpoenas 14 'alternate elect...                 news   \n",
       "48  Nevada man charged with making threatening pho...                 news   \n",
       "49  Arizona bill would let state lawmakers reject ...                 news   \n",
       "\n",
       "    created_utc  \n",
       "0    1645209330  \n",
       "1    1645067708  \n",
       "2    1645026613  \n",
       "3    1645012775  \n",
       "4    1644936927  \n",
       "5    1644925638  \n",
       "6    1644910081  \n",
       "7    1644863726  \n",
       "8    1644857087  \n",
       "9    1644626395  \n",
       "10   1644463925  \n",
       "11   1644380016  \n",
       "12   1644340614  \n",
       "13   1644328472  \n",
       "14   1644323796  \n",
       "15   1644183310  \n",
       "16   1644162790  \n",
       "17   1644093099  \n",
       "18   1644010855  \n",
       "19   1644010249  \n",
       "20   1644007954  \n",
       "21   1644007952  \n",
       "22   1643991409  \n",
       "23   1643981277  \n",
       "24   1643963071  \n",
       "25   1643921607  \n",
       "26   1643896552  \n",
       "27   1643832338  \n",
       "28   1643826200  \n",
       "29   1643747146  \n",
       "30   1643740337  \n",
       "31   1643649398  \n",
       "32   1643621464  \n",
       "33   1643614532  \n",
       "34   1643606046  \n",
       "35   1643593690  \n",
       "36   1643580575  \n",
       "37   1643574516  \n",
       "38   1643571349  \n",
       "39   1643549811  \n",
       "40   1643549792  \n",
       "41   1643549054  \n",
       "42   1643481323  \n",
       "43   1643477239  \n",
       "44   1643475401  \n",
       "45   1643464672  \n",
       "46   1643420809  \n",
       "47   1643405422  \n",
       "48   1643367005  \n",
       "49   1643305480  "
      ]
     },
     "execution_count": 63,
     "metadata": {},
     "output_type": "execute_result"
    }
   ],
   "source": [
    "posts = pd.DataFrame(data['data'])[['title', 'selftext', 'subreddit', 'created_utc']]\n",
    "posts"
   ]
  },
  {
   "cell_type": "code",
   "execution_count": null,
   "metadata": {},
   "outputs": [],
   "source": [
    "# Convert the posts into a DataFrame"
   ]
  },
  {
   "cell_type": "markdown",
   "metadata": {},
   "source": [
    "## Challenge\n",
    "---\n",
    "The posts are ordered by `created_utc`. In the cell below, prove that this is true."
   ]
  },
  {
   "cell_type": "code",
   "execution_count": 69,
   "metadata": {},
   "outputs": [],
   "source": [
    "before = posts['created_utc'].values[-1]"
   ]
  },
  {
   "cell_type": "markdown",
   "metadata": {},
   "source": [
    "Create a variable that includes the earilest date (ie most distant)."
   ]
  },
  {
   "cell_type": "code",
   "execution_count": null,
   "metadata": {},
   "outputs": [],
   "source": []
  },
  {
   "cell_type": "markdown",
   "metadata": {},
   "source": [
    "Use the last date from the previous step to get the **next** 50 posts that occur **before** your variable. Save it as another DataFrame."
   ]
  },
  {
   "cell_type": "code",
   "execution_count": 71,
   "metadata": {},
   "outputs": [],
   "source": [
    "# Get the most recent *50* posts from */r/news* containing the word *\"election\"*\n",
    "params = {\n",
    "    'subreddit': 'news',\n",
    "    'q': 'election',\n",
    "    'size': 50,\n",
    "    'before': before\n",
    "}\n",
    "\n",
    "res = requests.get(url, params=params)"
   ]
  },
  {
   "cell_type": "code",
   "execution_count": 72,
   "metadata": {},
   "outputs": [],
   "source": [
    "data = res.json()"
   ]
  },
  {
   "cell_type": "code",
   "execution_count": 75,
   "metadata": {},
   "outputs": [],
   "source": [
    "posts2 = pd.DataFrame(data['data'])[['title', 'selftext', 'subreddit', 'created_utc']]"
   ]
  },
  {
   "cell_type": "markdown",
   "metadata": {},
   "source": [
    "Concatenate the two DataFrames together."
   ]
  },
  {
   "cell_type": "code",
   "execution_count": 77,
   "metadata": {},
   "outputs": [
    {
     "data": {
      "text/html": [
       "<div>\n",
       "<style scoped>\n",
       "    .dataframe tbody tr th:only-of-type {\n",
       "        vertical-align: middle;\n",
       "    }\n",
       "\n",
       "    .dataframe tbody tr th {\n",
       "        vertical-align: top;\n",
       "    }\n",
       "\n",
       "    .dataframe thead th {\n",
       "        text-align: right;\n",
       "    }\n",
       "</style>\n",
       "<table border=\"1\" class=\"dataframe\">\n",
       "  <thead>\n",
       "    <tr style=\"text-align: right;\">\n",
       "      <th></th>\n",
       "      <th>title</th>\n",
       "      <th>selftext</th>\n",
       "      <th>subreddit</th>\n",
       "      <th>created_utc</th>\n",
       "    </tr>\n",
       "  </thead>\n",
       "  <tbody>\n",
       "    <tr>\n",
       "      <th>0</th>\n",
       "      <td>Election round up: PM Narendra Modi meets seve...</td>\n",
       "      <td></td>\n",
       "      <td>news</td>\n",
       "      <td>1645209330</td>\n",
       "    </tr>\n",
       "    <tr>\n",
       "      <th>1</th>\n",
       "      <td>Amazon agrees nyc union election terms setting...</td>\n",
       "      <td></td>\n",
       "      <td>news</td>\n",
       "      <td>1645067708</td>\n",
       "    </tr>\n",
       "    <tr>\n",
       "      <th>2</th>\n",
       "      <td>Latest plan by the election crybabies at the A...</td>\n",
       "      <td></td>\n",
       "      <td>news</td>\n",
       "      <td>1645026613</td>\n",
       "    </tr>\n",
       "    <tr>\n",
       "      <th>3</th>\n",
       "      <td>Clerk who espoused election fraud conspiracies...</td>\n",
       "      <td></td>\n",
       "      <td>news</td>\n",
       "      <td>1645012775</td>\n",
       "    </tr>\n",
       "    <tr>\n",
       "      <th>4</th>\n",
       "      <td>UP Phase 2 Election 2022 Highlights</td>\n",
       "      <td></td>\n",
       "      <td>news</td>\n",
       "      <td>1644936927</td>\n",
       "    </tr>\n",
       "    <tr>\n",
       "      <th>...</th>\n",
       "      <td>...</td>\n",
       "      <td>...</td>\n",
       "      <td>...</td>\n",
       "      <td>...</td>\n",
       "    </tr>\n",
       "    <tr>\n",
       "      <th>95</th>\n",
       "      <td>Biden all but concedes defeat on voting, elect...</td>\n",
       "      <td></td>\n",
       "      <td>news</td>\n",
       "      <td>1642109434</td>\n",
       "    </tr>\n",
       "    <tr>\n",
       "      <th>96</th>\n",
       "      <td>2023 Election: All I'm seeing are geriatrics p...</td>\n",
       "      <td></td>\n",
       "      <td>news</td>\n",
       "      <td>1642103717</td>\n",
       "    </tr>\n",
       "    <tr>\n",
       "      <th>97</th>\n",
       "      <td>MyPillow CEO Mike Lindell says he has evidence...</td>\n",
       "      <td></td>\n",
       "      <td>news</td>\n",
       "      <td>1642081367</td>\n",
       "    </tr>\n",
       "    <tr>\n",
       "      <th>98</th>\n",
       "      <td>INEC to deploy 12,000 ad hoc personnel for FCT...</td>\n",
       "      <td></td>\n",
       "      <td>news</td>\n",
       "      <td>1642071154</td>\n",
       "    </tr>\n",
       "    <tr>\n",
       "      <th>99</th>\n",
       "      <td>Pressed on his election lies, former President...</td>\n",
       "      <td></td>\n",
       "      <td>news</td>\n",
       "      <td>1642010182</td>\n",
       "    </tr>\n",
       "  </tbody>\n",
       "</table>\n",
       "<p>100 rows × 4 columns</p>\n",
       "</div>"
      ],
      "text/plain": [
       "                                                title selftext subreddit  \\\n",
       "0   Election round up: PM Narendra Modi meets seve...               news   \n",
       "1   Amazon agrees nyc union election terms setting...               news   \n",
       "2   Latest plan by the election crybabies at the A...               news   \n",
       "3   Clerk who espoused election fraud conspiracies...               news   \n",
       "4                 UP Phase 2 Election 2022 Highlights               news   \n",
       "..                                                ...      ...       ...   \n",
       "95  Biden all but concedes defeat on voting, elect...               news   \n",
       "96  2023 Election: All I'm seeing are geriatrics p...               news   \n",
       "97  MyPillow CEO Mike Lindell says he has evidence...               news   \n",
       "98  INEC to deploy 12,000 ad hoc personnel for FCT...               news   \n",
       "99  Pressed on his election lies, former President...               news   \n",
       "\n",
       "    created_utc  \n",
       "0    1645209330  \n",
       "1    1645067708  \n",
       "2    1645026613  \n",
       "3    1645012775  \n",
       "4    1644936927  \n",
       "..          ...  \n",
       "95   1642109434  \n",
       "96   1642103717  \n",
       "97   1642081367  \n",
       "98   1642071154  \n",
       "99   1642010182  \n",
       "\n",
       "[100 rows x 4 columns]"
      ]
     },
     "execution_count": 77,
     "metadata": {},
     "output_type": "execute_result"
    }
   ],
   "source": [
    "pd.concat([posts, posts2], ignore_index=True)"
   ]
  },
  {
   "cell_type": "code",
   "execution_count": 82,
   "metadata": {},
   "outputs": [
    {
     "data": {
      "text/plain": [
       "1645214456"
      ]
     },
     "execution_count": 82,
     "metadata": {},
     "output_type": "execute_result"
    }
   ],
   "source": [
    "int(time.time())"
   ]
  },
  {
   "cell_type": "code",
   "execution_count": 85,
   "metadata": {},
   "outputs": [
    {
     "name": "stdout",
     "output_type": "stream",
     "text": [
      "boardgames 0\n",
      "boardgames 1\n",
      "boardgames 2\n",
      "boardgames 3\n",
      "boardgames 4\n",
      "boardgames 5\n",
      "boardgames 6\n",
      "boardgames 7\n",
      "boardgames 8\n",
      "boardgames 9\n",
      "philosophy 0\n",
      "philosophy 1\n"
     ]
    },
    {
     "ename": "KeyboardInterrupt",
     "evalue": "",
     "output_type": "error",
     "traceback": [
      "\u001b[0;31m---------------------------------------------------------------------------\u001b[0m",
      "\u001b[0;31mKeyboardInterrupt\u001b[0m                         Traceback (most recent call last)",
      "\u001b[0;32m<ipython-input-85-813f2c24393b>\u001b[0m in \u001b[0;36m<module>\u001b[0;34m\u001b[0m\n\u001b[1;32m     21\u001b[0m         \u001b[0;31m# set before to be the timestamp of the last post\u001b[0m\u001b[0;34m\u001b[0m\u001b[0;34m\u001b[0m\u001b[0;34m\u001b[0m\u001b[0m\n\u001b[1;32m     22\u001b[0m \u001b[0;34m\u001b[0m\u001b[0m\n\u001b[0;32m---> 23\u001b[0;31m         \u001b[0mtime\u001b[0m\u001b[0;34m.\u001b[0m\u001b[0msleep\u001b[0m\u001b[0;34m(\u001b[0m\u001b[0;36m3\u001b[0m\u001b[0;34m)\u001b[0m\u001b[0;34m\u001b[0m\u001b[0;34m\u001b[0m\u001b[0m\n\u001b[0m",
      "\u001b[0;31mKeyboardInterrupt\u001b[0m: "
     ]
    }
   ],
   "source": [
    "dfs = []\n",
    "\n",
    "subreddits = ['boardgames', 'philosophy']\n",
    "\n",
    "for subreddit in subreddits:\n",
    "    \n",
    "    # set before to be current time\n",
    "    \n",
    "    for i in range(1):\n",
    "        print(subreddit, i)\n",
    "        # create params: before, subreddit, size\n",
    "        \n",
    "        # use the requests to get the response\n",
    "        \n",
    "        # turn the response into JSON\n",
    "        \n",
    "        # turn the JSON into a DataFrame\n",
    "        \n",
    "        # add posts DataFrame to dfs\n",
    "        \n",
    "        # set before to be the timestamp of the last post\n",
    "        \n",
    "        time.sleep(3)\n",
    "# concat all dfs"
   ]
  },
  {
   "cell_type": "code",
   "execution_count": null,
   "metadata": {},
   "outputs": [],
   "source": []
  }
 ],
 "metadata": {
  "kernelspec": {
   "display_name": "Python 3",
   "language": "python",
   "name": "python3"
  },
  "language_info": {
   "codemirror_mode": {
    "name": "ipython",
    "version": 3
   },
   "file_extension": ".py",
   "mimetype": "text/x-python",
   "name": "python",
   "nbconvert_exporter": "python",
   "pygments_lexer": "ipython3",
   "version": "3.8.5"
  }
 },
 "nbformat": 4,
 "nbformat_minor": 4
}
